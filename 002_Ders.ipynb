{
  "nbformat": 4,
  "nbformat_minor": 0,
  "metadata": {
    "colab": {
      "provenance": [],
      "authorship_tag": "ABX9TyPSXbLwvOMTnFLxbPO4lYiz",
      "include_colab_link": true
    },
    "kernelspec": {
      "name": "python3",
      "display_name": "Python 3"
    },
    "language_info": {
      "name": "python"
    }
  },
  "cells": [
    {
      "cell_type": "markdown",
      "metadata": {
        "id": "view-in-github",
        "colab_type": "text"
      },
      "source": [
        "<a href=\"https://colab.research.google.com/github/sunaglmez/Natural-language-processing-NLP-/blob/main/002_Ders.ipynb\" target=\"_parent\"><img src=\"https://colab.research.google.com/assets/colab-badge.svg\" alt=\"Open In Colab\"/></a>"
      ]
    },
    {
      "cell_type": "markdown",
      "source": [
        "# **Doğal Dil İşleme'nin Alt Başlıkları**\n",
        "\n",
        "1. Kelime Bilimi,\n",
        "2. Söz Dizimi,\n",
        "3. Anlamsal Analiz ve\n",
        "4. Anlam Belirsizliği."
      ],
      "metadata": {
        "id": "_MciDKSXuaCY"
      }
    },
    {
      "cell_type": "markdown",
      "source": [
        "## **1. Kelime Bilimi (Morphology & Lexicology)**\n",
        "Kelime bilimi, kelimelerin yapısını ve kökenlerini inceleyen bir alandır.\n",
        "\n",
        "**🔹 Köken Bilimi (Etimoloji)**\n",
        "\n",
        "Bir kelimenin tarihsel gelişimini ve kökenini araştırır.\n",
        "\n",
        "Hangi dilden geldiğini ve zaman içinde nasıl değiştiğini inceler.\n",
        "\n",
        "Örneğin, Türkçedeki \"kitap\" kelimesi, Arapça \"kitāb\" (كتب) kelimesinden türemiştir.\n",
        "\n",
        "**🔹 Dil ve Kültürel İlişkiler**\n",
        "\n",
        "Dillerin birbirinden nasıl etkilendiğini ve kelime alışverişinde bulunduğunu inceler.\n",
        "\n",
        "Örneğin, İngilizce \"sugar\" kelimesi Sanskritçe'den gelmiştir ve birçok dilde benzer şekilde kullanılmaktadır.\n",
        "\n"
      ],
      "metadata": {
        "id": "ej9u2sDYuv58"
      }
    },
    {
      "cell_type": "markdown",
      "source": [
        "## **2. Söz Dizimi (Syntax)**\n",
        "Sözdizimi, kelimelerin ve cümlelerin nasıl bir araya geldiğini inceleyen dilbilim dalıdır.\n",
        "\n",
        "**🔹 Cümle Kurma Kuralları**\n",
        "\n",
        "Hangi kelimenin nereye gelebileceğini belirleyen kuralları inceler.\n",
        "\n",
        "Örneğin, Türkçede \"Ben kitap okuyorum.\" doğru iken, \"Ben okuyorum kitap.\" yanlış bir yapıdadır.\n",
        "\n",
        "**🔹 Cümlelerin Esnekliği**\n",
        "\n",
        "Dillerin esnekliği farklılık gösterir.\n",
        "\n",
        "İngilizce'de \"The cat chased the mouse.\" (Kedi, fareyi kovaladı) cümlesinde kelime sırası önemlidir.\n",
        "\n",
        "Türkçede \"Kedi fareyi kovaladı.\" veya \"Fareyi kovaladı kedi.\" gibi farklı sıralamalar mümkündür."
      ],
      "metadata": {
        "id": "HeJRLZMfydaI"
      }
    },
    {
      "cell_type": "markdown",
      "source": [
        "## **3. Anlamsal Analiz (Semantics - Anlam Bilimi)**\n",
        "Anlamsal analiz, kelimelerin ve cümlelerin anlamını inceleyen bir alandır.\n",
        "\n",
        "**🔹 Sözcük ve Cümle Anlamı**\n",
        "\n",
        "\"Bank\" kelimesi İngilizcede hem \"finans kurumu\" hem de \"nehir kenarı\" anlamına gelebilir.\n",
        "\n",
        "\"Elma kırmızı.\" cümlesi, \"Kırmızı elma.\" cümlesiyle benzer ama farklı vurgular taşır.\n",
        "\n",
        "**🔹 Aynı Sözcük – Farklı Anlam**\n",
        "\n",
        "\"Anahtar\" kelimesi hem kapıyı açan bir nesne hem de bir çözüm yöntemi olabilir.\n",
        "\n",
        "**🔹 Bağlam (Context)**\n",
        "\n",
        "Bir kelimenin anlamı, cümledeki diğer kelimelere göre değişebilir.\n",
        "\n",
        "\"Elini tut.\" cümlesindeki \"tut\" fiili, \"Su tut.\" cümlesindeki \"tut\"tan farklıdır."
      ],
      "metadata": {
        "id": "8ur4xaWryz42"
      }
    },
    {
      "cell_type": "markdown",
      "source": [
        "## **4. Anlam Belirsizliği (Disambiguation)**\n",
        "Bir kelimenin ya da cümlenin birden fazla anlam taşıması durumudur.\n",
        "\n",
        "**🔹 Kelime Anlamı - Bağlam**\n",
        "\n",
        "\"Ateş\" kelimesi hastalık anlamına da gelir, yangın anlamına da.\n",
        "\n",
        "\"Kalem çok güzel yazıyor.\" (Kalem bir yazı aracı mı yoksa bir sanatçının mahlası mı?)\n",
        "\n",
        "**🔹 Farklı Bağlam - Farklı Anlam**\n",
        "\n",
        "\"Cam kırıldı.\" (Pencere camı mı? Camdan yapılmış bir obje mi?)\n",
        "\n",
        "\"Ali okulda kaldı.\" (Başarısız olup sınıfta mı kaldı yoksa okulda bekliyor mu?)\n",
        "\n",
        "Anlam belirsizliğini gidermek için Doğal Dil İşleme (NLP) modelleri, cümlenin bağlamına bakarak en uygun anlamı belirlemeye çalışır."
      ],
      "metadata": {
        "id": "02VR7wkzzNud"
      }
    }
  ]
}