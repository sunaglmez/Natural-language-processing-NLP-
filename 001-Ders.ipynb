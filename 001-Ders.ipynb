{
  "nbformat": 4,
  "nbformat_minor": 0,
  "metadata": {
    "colab": {
      "provenance": [],
      "authorship_tag": "ABX9TyPGotksRfOkc3XN1CHW/tg+",
      "include_colab_link": true
    },
    "kernelspec": {
      "name": "python3",
      "display_name": "Python 3"
    },
    "language_info": {
      "name": "python"
    }
  },
  "cells": [
    {
      "cell_type": "markdown",
      "metadata": {
        "id": "view-in-github",
        "colab_type": "text"
      },
      "source": [
        "<a href=\"https://colab.research.google.com/github/sunaglmez/Natural-language-processing-NLP-/blob/main/001-Ders.ipynb\" target=\"_parent\"><img src=\"https://colab.research.google.com/assets/colab-badge.svg\" alt=\"Open In Colab\"/></a>"
      ]
    },
    {
      "cell_type": "markdown",
      "source": [
        "# **NLP(Doğal dil işleme) Alanları**"
      ],
      "metadata": {
        "id": "XYS_eA38osq-"
      }
    },
    {
      "cell_type": "markdown",
      "source": [
        "## **NLP alt başlıkları nelerdir?**\n",
        "\n",
        "### **1. Temel Metin İşleme**\n",
        "Tokenizasyon: Metni kelimelere veya cümlelere ayırma.\n",
        "Lemmatizasyon & Stemleme: Kelimeleri kök veya temel haline indirme.\n",
        "Durdurma Kelimeleri (Stopwords) Filtreleme: \"ve\", \"bu\", \"ile\" gibi sık kullanılan ama anlam taşımayan kelimeleri çıkarma.\n",
        "\n",
        "\n",
        "### **2. Dil Modellemesi**\n",
        "N-gram Modelleri: Metin içerisindeki kelime dizilimlerini analiz etme.\n",
        "Kelime Vektörleri (Word Embeddings): Word2Vec, GloVe, FastText gibi yöntemlerle kelimeleri vektör formunda temsil etme.\n",
        "Transformers Modelleri: GPT, BERT, T5 gibi modern derin öğrenme tabanlı modeller.\n",
        "\n",
        "\n",
        "### **3. Sentiment Analizi (Duygu Analizi)**\n",
        "Metindeki duygusal tonu belirleme (pozitif, negatif, nötr).\n",
        "Sosyal medya, müşteri yorumları gibi alanlarda sık kullanılır.\n",
        "\n",
        "\n",
        "### **4. Named Entity Recognition (NER) - Varlık Tanıma**\n",
        "Metin içinde kişi, yer, organizasyon gibi özel isimleri belirleme.\n",
        "5. Dilbilgisi ve Sözdizimi Analizi\n",
        "POS (Part of Speech) Tagging: Kelimelerin türlerini (isim, fiil, sıfat vb.) belirleme.\n",
        "Bağıntı Çözümleme (Dependency Parsing): Cümledeki kelimeler arasındaki dilbilgisel ilişkileri belirleme.\n",
        "6. Makine Çevirisi\n",
        "Diller arası çeviri yapma (Google Translate gibi).\n",
        "Kural tabanlı, istatistiksel ve sinir ağı tabanlı yöntemler bulunur.\n",
        "\n",
        "\n",
        "### **7. Konuşma Tanıma ve Üretme**\n",
        "Otomatik Konuşma Tanıma (ASR - Automatic Speech Recognition): Sesli konuşmayı metne çevirme.\n",
        "Metinden Konuşma Üretme (TTS - Text to Speech): Metni sesli hale getirme (Google Text-to-Speech gibi).\n",
        "8. Özetleme (Text Summarization)\n",
        "Çıkarımsal Özetleme (Extractive Summarization): Metindeki önemli cümleleri seçerek özet çıkarma.\n",
        "Üretken Özetleme (Abstractive Summarization): Yeni cümleler oluşturarak özelleştirilmiş özet üretme.\n",
        "\n",
        "\n",
        "### **9. Soru-Cevaplama Sistemleri (Question Answering - QA)**\n",
        "Verilen bir metinden sorulara yanıt verme (örneğin, Google veya ChatGPT gibi).\n",
        "Açık uçlu veya kapalı uçlu soru yanıtlama sistemleri olabilir.\n",
        "\n",
        "\n",
        "### **10. Konuşma ve Diyalog Sistemleri**\n",
        "Chatbotlar ve sanal asistanlar (Siri, Alexa gibi).\n",
        "Diyalog yönetimi ve bağlamsal anlama.\n",
        "\n",
        "\n",
        "### **11. Anlamsal Analiz (Semantic Analysis)**\n",
        "Kelime Anlamı Çözümleme (Word Sense Disambiguation - WSD): Aynı kelimenin farklı anlamlarını ayırt etme.\n",
        "Anlamsal Benzerlik (Semantic Similarity): İki metnin anlam açısından benzer olup olmadığını belirleme.\n",
        "\n",
        "\n",
        "### **12. Bilgi Çıkarımı ve Bilgi Grafikleri**\n",
        "Metinlerden yapılandırılmış bilgi çıkarma.\n",
        "Google Knowledge Graph gibi sistemlerde kullanılır.\n"
      ],
      "metadata": {
        "id": "pHIy1VXKo2X4"
      }
    },
    {
      "cell_type": "code",
      "execution_count": null,
      "metadata": {
        "id": "TMKNNjtWoUOp"
      },
      "outputs": [],
      "source": []
    }
  ]
}