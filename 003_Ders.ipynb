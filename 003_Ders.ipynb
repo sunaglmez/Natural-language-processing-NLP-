{
  "nbformat": 4,
  "nbformat_minor": 0,
  "metadata": {
    "colab": {
      "provenance": [],
      "authorship_tag": "ABX9TyOtlCS3/Jf86uF2ktmzFgCe",
      "include_colab_link": true
    },
    "kernelspec": {
      "name": "python3",
      "display_name": "Python 3"
    },
    "language_info": {
      "name": "python"
    }
  },
  "cells": [
    {
      "cell_type": "markdown",
      "metadata": {
        "id": "view-in-github",
        "colab_type": "text"
      },
      "source": [
        "<a href=\"https://colab.research.google.com/github/sunaglmez/Natural-language-processing-NLP-/blob/main/003_Ders.ipynb\" target=\"_parent\"><img src=\"https://colab.research.google.com/assets/colab-badge.svg\" alt=\"Open In Colab\"/></a>"
      ]
    },
    {
      "cell_type": "markdown",
      "source": [
        "#**Doğal Dil İşleme'de Başlıca Araştırma Konuları**"
      ],
      "metadata": {
        "id": "ZeRKl9Y707-y"
      }
    },
    {
      "cell_type": "markdown",
      "source": [
        "## **1. Varlık İsmi Tanıma (NER - Named Entity Recognition)**\n",
        "Metinde geçen özel isimleri ve önemli varlıkları tespit eden bir NLP tekniğidir.\n",
        "\n",
        "**🔹 Tespit Edilen Ögeler:**\n",
        "\n",
        "Kişi isimleri: \"Sabahattin Ali\", \"Ahmet Hamdi Tanpınar\"\n",
        "\n",
        "Yer isimleri: \"Ankara\", \"Amazon Nehri\"\n",
        "\n",
        "Tarih ve saat: \"10 Mart 2024\", \"Saat 15:30\"\n",
        "\n",
        "Kurum ve organizasyon isimleri: \"NASA\", \"Google\"\n",
        "\n",
        "Para birimleri: \"100 TL\", \"50 USD\"\n",
        "\n",
        "**🔹 NER Kullanım Alanları:**\n",
        "\n",
        "Haberlerde kişi, kurum ve yer isimlerini belirleme\n",
        "\n",
        "Sosyal medya analizlerinde marka veya kişi takibi\n",
        "\n",
        "Hukuki belgelerde önemli unsurları otomatik tespit etme"
      ],
      "metadata": {
        "id": "J6j3OJru1EGO"
      }
    },
    {
      "cell_type": "markdown",
      "source": [
        "## **2. Özetleme (Summarization)**\n",
        "Uzun metinleri kısa ve anlamlı hale getirme işlemidir.\n",
        "\n",
        "**🔹 İki Tür Özetleme Vardır:**\n",
        "\n",
        "***1️⃣ Çıkarıcı Özetleme (Extractive Summarization)***\n",
        "\n",
        "Mevcut metindeki önemli cümleleri seçerek özet oluşturur.\n",
        "\n",
        "Metinde bulunan kelime ve cümleler aynen kullanılır.\n",
        "\n",
        "`Örnek:`\n",
        "\n",
        "Tam Metin: \"Bugün hava çok sıcak. İnsanlar dışarı çıkarken şapka takmalı ve bol su içmeli.\"\n",
        "\n",
        "Özet: \"Hava sıcak, insanlar şapka takmalı ve su içmeli.\"\n",
        "\n",
        "***2️⃣ Soyutlayıcı Özetleme (Abstractive Summarization)***\n",
        "\n",
        "Metindeki ana fikri yeni cümlelerle ifade eder.\n",
        "\n",
        "Daha yaratıcıdır ve genellikle sinir ağları (deep learning) kullanılarak yapılır.\n",
        "\n",
        "`Örnek:`\n",
        "\n",
        "Tam Metin: \"Bugün hava çok sıcak. İnsanlar dışarı çıkarken şapka takmalı ve bol su içmeli.\"\n",
        "\n",
        "Özet: \"Sıcak havalarda güneşten korunmak için önlem alınmalı.\"\n",
        "\n",
        "**🔹 Özetleme Kullanım Alanları:**\n",
        "\n",
        "Haber özetleme (Google News, Yahoo News gibi)\n",
        "\n",
        "Uzun makalelerin veya raporların kısa versiyonlarını oluşturma\n",
        "\n",
        "Müşteri yorumlarından ana fikir çıkarma"
      ],
      "metadata": {
        "id": "BBeTlKJ51Rjx"
      }
    },
    {
      "cell_type": "markdown",
      "source": [
        "## **3. Metin Normalizasyonu (Text Normalization)**\n",
        "Metinlerdeki yazım hatalarını ve düzensizlikleri düzelterek analiz için daha iyi hale getirme işlemidir.\n",
        "\n",
        "**🔹 Yazım Hataları ve Düzeltme:**\n",
        "\n",
        "Kasti hatalar: Sosyal medyada bilinçli yapılan değişiklikler (\"slm\" → \"selam\", \"nbr\" → \"ne haber\")\n",
        "\n",
        "Kazara yapılan hatalar: Yazım hataları veya yanlış harf kullanımı (\"anladm\" → \"anladım\", \"mrb\" → \"merhaba\")\n",
        "\n",
        "**🔹 Başarı Oranını Artırma:**\n",
        "\n",
        "Analizlerde verinin temiz olması önemlidir.\n",
        "\n",
        "Örneğin, metin sınıflandırmada hatalı yazılmış kelimeler yanlış sınıflandırmaya neden olabilir.\n",
        "\n",
        "**🔹 Metin Normalizasyonu Kullanım Alanları:**\n",
        "\n",
        "Otomatik yazım düzeltme sistemleri (Google’ın \"Bunu mu demek istediniz?\" özelliği)\n",
        "\n",
        "Chatbot'lar ve konuşma tanıma sistemleri\n",
        "\n",
        "Sosyal medya analizleri"
      ],
      "metadata": {
        "id": "eoSFfN_b1jBM"
      }
    },
    {
      "cell_type": "markdown",
      "source": [
        "## **4. Metin Sınıflandırma (Text Classification)**\n",
        "Belirli kurallara göre metinleri kategorilere ayırma işlemidir.\n",
        "\n",
        "**🔹 Sınıflandırma Kriterleri:**\n",
        "\n",
        "Anlam: Pozitif/negatif duygu analizi (yorumlar, tweet'ler)\n",
        "\n",
        "Uzunluk: Kısa veya uzun metinleri belirleme\n",
        "\n",
        "Tür: Haber kategorileri (spor, siyaset, ekonomi)\n",
        "\n",
        "**🔹 Metin Sınıflandırma Kullanım Alanları:**\n",
        "\n",
        "Arama motorları: Kullanıcının aradığı terime en uygun dokümanları listeleme\n",
        "\n",
        "E-ticaret: Kullanıcının alışveriş alışkanlıklarını analiz ederek öneriler sunma\n",
        "\n",
        "Spam Filtreleme: E-posta veya mesajları spam veya normal olarak sınıflandırma"
      ],
      "metadata": {
        "id": "cWXQXXi31psa"
      }
    }
  ]
}