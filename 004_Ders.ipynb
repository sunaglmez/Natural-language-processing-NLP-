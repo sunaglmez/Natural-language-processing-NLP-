{
  "nbformat": 4,
  "nbformat_minor": 0,
  "metadata": {
    "colab": {
      "provenance": [],
      "authorship_tag": "ABX9TyPXQDWy9+nXv2NGLTeB9I+c",
      "include_colab_link": true
    },
    "kernelspec": {
      "name": "python3",
      "display_name": "Python 3"
    },
    "language_info": {
      "name": "python"
    }
  },
  "cells": [
    {
      "cell_type": "markdown",
      "metadata": {
        "id": "view-in-github",
        "colab_type": "text"
      },
      "source": [
        "<a href=\"https://colab.research.google.com/github/sunaglmez/Natural-language-processing-NLP-/blob/main/004_Ders.ipynb\" target=\"_parent\"><img src=\"https://colab.research.google.com/assets/colab-badge.svg\" alt=\"Open In Colab\"/></a>"
      ]
    },
    {
      "cell_type": "markdown",
      "source": [
        "# **Doğal Dil İşleme (NLP) Kütüphaneleri**"
      ],
      "metadata": {
        "id": "ri-RvRG-3ILl"
      }
    },
    {
      "cell_type": "markdown",
      "source": [
        "## **Kütüphane Nedir?**\n",
        "Kütüphane, belirli bir programlama dili için yazılmış, önceden hazırlanmış fonksiyonlar ve modüller içeren bir yazılım paketidir.\n",
        "\n",
        "**🔹 Avantajları:**\n",
        "\n",
        "Hazır fonksiyonlar: Belirli işlemleri sıfırdan yazmak yerine doğrudan kullanabiliriz.\n",
        "\n",
        "Verimlilik: Zaman kazandırır ve geliştirici hatalarını azaltır.\n",
        "\n",
        "Optimizasyon: Büyük veri işleme ve makine öğrenimi gibi alanlarda performansı artırır."
      ],
      "metadata": {
        "id": "tnvmVXjp3PqL"
      }
    },
    {
      "cell_type": "markdown",
      "source": [
        "## **Doğal Dil İşleme'de Temel Kütüphaneler**\n",
        "Doğal Dil İşleme (NLP) için en yaygın kullanılan kütüphaneler şunlardır:\n",
        "\n",
        "1️⃣ **NLTK (Natural Language Toolkit)** – Eğitim ve araştırma için güçlüdür.\n",
        "\n",
        "2️⃣ **spaCy** – Hızlı ve büyük ölçekli NLP projeleri için uygundur.\n",
        "\n",
        "3️⃣ **Zemberek** – Türkçe dil işleme için özel olarak geliştirilmiştir."
      ],
      "metadata": {
        "id": "Yr4z6yHT3ZVi"
      }
    },
    {
      "cell_type": "markdown",
      "source": [
        "## **NLTK (Natural Language Toolkit)**\n",
        "**🔹 Genel Bilgiler:**\n",
        "\n",
        "Doğal dil işleme için en eski ve en popüler Python kütüphanelerinden biridir.\n",
        "\n",
        "İstatiksel ve sembolik NLP tekniklerini destekler.\n",
        "\n",
        "Stevan Bird & Edward Loper tarafından geliştirilmiştir.\n",
        "\n",
        "**🔹 Özellikleri:**\n",
        "\n",
        "Tokenization (Parçalama): Metni kelimelere ve cümlelere ayırma\n",
        "\n",
        "POS Tagging (Sözcük Türü Belirleme): Kelimeleri isim, fiil vb. olarak etiketleme\n",
        "\n",
        "Stemming & Lemmatization: Kelimeleri kök haline getirme\n",
        "\n",
        "Stopword Filtering: Gereksiz kelimeleri (örneğin, \"ve\", \"ile\") temizleme\n",
        "\n",
        "Sentiment Analysis (Duygu Analizi): Metinlerin duygu durumunu belirleme\n",
        "\n",
        "**🔹 NLTK'nin Kullanım Alanları:**\n",
        "\n",
        "Metin analizi ve istatistiksel dil modelleri\n",
        "\n",
        "Akademik çalışmalar ve eğitim amaçlı projeler\n",
        "\n",
        "Küçük ölçekli doğal dil işleme uygulamaları\n",
        "\n"
      ],
      "metadata": {
        "id": "mpp6Ax_f3scZ"
      }
    },
    {
      "cell_type": "markdown",
      "source": [
        "## **spaCy**\n",
        "**🔹 Genel Bilgiler:**\n",
        "\n",
        "Açık kaynak kodlu bir NLP kütüphanesidir.\n",
        "\n",
        "Python ve Cython ile yazılmıştır.\n",
        "\n",
        "Matthew Honnibal & Ines Montani tarafından geliştirilmiştir.\n",
        "\n",
        "**🔹 Özellikleri:**\n",
        "\n",
        "Hızlı ve optimize edilmiş bir yapıya sahiptir.\n",
        "\n",
        "Endüstri standartlarında büyük veri işleme ve NLP projeleri için kullanılır.\n",
        "\n",
        "Derin öğrenme (Deep Learning) destekli dil modelleri içerir.\n",
        "\n",
        "Çoklu dil desteği vardır (İngilizce, Almanca, Fransızca, Türkçe vb.).\n",
        "\n",
        "**🔹 spaCy'nin Kullanım Alanları:**\n",
        "\n",
        "Büyük ölçekli metin analizi ve işleme\n",
        "\n",
        "Chatbot ve sanal asistan geliştirme\n",
        "\n",
        "Makine öğrenimi tabanlı NLP modelleri"
      ],
      "metadata": {
        "id": "Om1yDqDe38nd"
      }
    },
    {
      "cell_type": "markdown",
      "source": [
        "## **Zemberek**\n",
        "**🔹 Genel Bilgiler:**\n",
        "\n",
        "Türkçe doğal dil işleme (DDİ) için geliştirilmiş bir kütüphanedir.\n",
        "\n",
        "Açık kaynak kodludur.\n",
        "\n",
        "Java dili ile yazılmıştır.\n",
        "\n",
        "Ahmet Afşin Akın & Mehmet Dündar Akın tarafından geliştirilmiştir.\n",
        "\n",
        "**🔹 Özellikleri:**\n",
        "\n",
        "Türkçe dil yapısına özgü analizler yapabilir.\n",
        "\n",
        "Heceleme ve yazım denetimi sağlar.\n",
        "\n",
        "Kelime kök ve ek analizleri yapabilir.\n",
        "\n",
        "Türkçe metinleri normalleştirme ve düzeltebilme özelliğine sahiptir.\n",
        "\n",
        "**🔹 Zemberek’in Kullanım Alanları:**\n",
        "\n",
        "Türkçe yazım ve dil bilgisi kontrolü\n",
        "\n",
        "Türkçe metinleri işleyerek anlam çıkarma\n",
        "\n",
        "Otomatik metin düzenleme ve kelime kökleri analiz etme\n",
        "\n"
      ],
      "metadata": {
        "id": "F6n7efbz4CNe"
      }
    }
  ]
}